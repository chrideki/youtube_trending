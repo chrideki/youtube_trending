{
 "cells": [
  {
   "cell_type": "markdown",
   "metadata": {},
   "source": [
    "# Visualization with Python, Project 1\n",
    "\n",
    "This the my first project in Data Analyst Training Accelerator class at Galvanize New York.   \n",
    "\n",
    "The goal of this exercise is to analyze a dataset using Python and its visualization tools, in order to obtain exploratory graphs and insights.\n",
    "\n",
    "In this project I'm going to analyze a dataset which includes data about trending video on YouTube. Here's the data source: https://www.kaggle.com/hoonkeng/deep-analysis-on-youtube-trending-videos-eda/notebook\n",
    "\n",
    "In the dataset, collected across 10 countries, we find information about views, video descriptions, title, category, tag, number of like, dislikes, comments.   \n",
    "Two versions of the dataset are available: in the first one there is one global collection; in the second we have more collection from 2017 to 2018. \n",
    "\n",
    "My analysis will have two parts:\n",
    "1. an overview of the data, with some general observations\n",
    "2. focus on some relevant aspect for the YouTube user"
   ]
  }
 ],
 "metadata": {
  "kernelspec": {
   "display_name": "Python 3",
   "language": "python",
   "name": "python3"
  },
  "language_info": {
   "codemirror_mode": {
    "name": "ipython",
    "version": 3
   },
   "file_extension": ".py",
   "mimetype": "text/x-python",
   "name": "python",
   "nbconvert_exporter": "python",
   "pygments_lexer": "ipython3",
   "version": "3.7.3"
  }
 },
 "nbformat": 4,
 "nbformat_minor": 2
}
